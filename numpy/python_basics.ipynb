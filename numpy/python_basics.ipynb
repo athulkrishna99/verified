{
 "cells": [
  {
   "cell_type": "markdown",
   "metadata": {},
   "source": [
    "# 2100 Python basis"
   ]
  },
  {
   "cell_type": "markdown",
   "metadata": {},
   "source": [
    "Defining Data Types"
   ]
  },
  {
   "cell_type": "code",
   "execution_count": 98,
   "metadata": {},
   "outputs": [
    {
     "name": "stdout",
     "output_type": "stream",
     "text": [
      "Variable a is: 35000\n",
      "<class 'int'>\n",
      "\n",
      "Variable b is: -985.0563\n",
      "<class 'float'>\n",
      "\n",
      "Variable c is: (6+3j)\n",
      "<class 'complex'>\n",
      "\n",
      "Variable d is: (-7-4j)\n",
      "<class 'complex'>\n",
      "\n",
      "Variable e is: None\n",
      "<class 'NoneType'>\n",
      "\n",
      "Variable f is: Python_with_data science\n",
      "<class 'str'>\n",
      "\n",
      "Variable g is: False\n",
      "<class 'bool'>\n"
     ]
    }
   ],
   "source": [
    "\n",
    "#Types of Variables, There are 4- Number, string, Boolean, and None\n",
    "#Number has three more types - int, float and complex\n",
    "a=35000\n",
    "b=-985.0563\n",
    "c=6+3j\n",
    "d=-7-4j\n",
    "e= None\n",
    "f=\"Python_with_data science\"\n",
    "g=(a<7500)\n",
    "print('Variable a is:',a )\n",
    "print(type(a))\n",
    "print()                #here print() will make one line gap...\n",
    "print('Variable b is:' ,b)\n",
    "print(type(b))\n",
    "print()\n",
    "print('Variable c is:' ,c)\n",
    "print(type(c))\n",
    "print()\n",
    "print('Variable d is:' ,d)\n",
    "print(type(d))\n",
    "print()\n",
    "print('Variable e is:' ,e)\n",
    "print(type(e))\n",
    "print()\n",
    "print('Variable f is:' ,f)\n",
    "print(type(f))\n",
    "print()\n",
    "print('Variable g is:', g)\n",
    "print(type(g))\n"
   ]
  },
  {
   "cell_type": "code",
   "execution_count": 3,
   "metadata": {},
   "outputs": [
    {
     "name": "stdout",
     "output_type": "stream",
     "text": [
      "18\n",
      "21\n",
      "18\n",
      "54\n",
      "18.0\n",
      "5832.0\n",
      "0.0\n",
      "0.0\n",
      "\n"
     ]
    }
   ],
   "source": [
    "#Assignment operator\n",
    "p=15\n",
    "q=3\n",
    "r=p+q\n",
    "print(r)\n",
    "r+=q          #This operation is similar to r=r+q\n",
    "print(r)\n",
    "r-=q\n",
    "print(r)\n",
    "r*=q\n",
    "print(r)\n",
    "r/=q\n",
    "print(r)\n",
    "r**=q\n",
    "print(r)\n",
    "r%=q\n",
    "print(r)\n",
    "r//=q\n",
    "print(r)\n",
    "print()\n",
    "                                        "
   ]
  },
  {
   "cell_type": "code",
   "execution_count": 1,
   "metadata": {},
   "outputs": [
    {
     "name": "stdout",
     "output_type": "stream",
     "text": [
      "a1= 30\n",
      "a2= 20\n",
      "a3= 125\n",
      "a4= 5.0\n",
      "a5= 5.142857142857143\n",
      "a6= 1\n",
      "a7= 5\n",
      "a8= 78364164096\n",
      "\n"
     ]
    }
   ],
   "source": [
    "#Arithmetic operators\n",
    "a=25\n",
    "b=5\n",
    "a1=a+b\n",
    "print(\"a1=\",a1)\n",
    "a2=a-b\n",
    "print(\"a2=\",a2)\n",
    "a3=a*b\n",
    "print(\"a3=\",a3)\n",
    "a4=a/b\n",
    "print(\"a4=\",a4)\n",
    "a=36\n",
    "b=7\n",
    "a5=a/b\n",
    "print(\"a5=\",a5)\n",
    "a6=a%b\n",
    "print('a6=',a6)\n",
    "a7=a//b\n",
    "print('a7=',a7)\n",
    "a8=a**b\n",
    "print('a8=',a8)\n",
    "print()\n"
   ]
  },
  {
   "cell_type": "code",
   "execution_count": 8,
   "metadata": {},
   "outputs": [
    {
     "name": "stdout",
     "output_type": "stream",
     "text": [
      "Check if a>b:  True\n",
      "Check if a<b:  False\n",
      "Check if a<=b:  False\n",
      "Check if a>=b:  True\n",
      "Check if a==b:  False\n",
      "Check if a!=b:  True\n",
      "\n",
      "36\n",
      "7\n"
     ]
    }
   ],
   "source": [
    " #comparision operators:\n",
    "print('Check if a>b: ',a>b)\n",
    "print('Check if a<b: ',a<b)\n",
    "print('Check if a<=b: ',a<=b)\n",
    "print('Check if a>=b: ',a>=b)\n",
    "print('Check if a==b: ',a==b)\n",
    "print('Check if a!=b: ',a!=b)\n",
    "print()\n",
    "print (a)\n",
    "print (b)\n"
   ]
  },
  {
   "cell_type": "code",
   "execution_count": 9,
   "metadata": {},
   "outputs": [
    {
     "name": "stdout",
     "output_type": "stream",
     "text": [
      "Logical AND is: 4\n",
      "Logical OR is: 5\n",
      "Negation of a is: -6\n",
      "Negate b as: -5\n",
      "\n"
     ]
    }
   ],
   "source": [
    "#Logical Operators                                        \n",
    "a=5\n",
    "b=4\n",
    "print(\"Logical AND is:\", a&b)\n",
    "print(\"Logical OR is:\", a|b)\n",
    "print('Negation of a is:', ~a)\n",
    "print('Negate b as:',~b)\n",
    "print()\n"
   ]
  },
  {
   "cell_type": "code",
   "execution_count": 10,
   "metadata": {},
   "outputs": [
    {
     "name": "stdout",
     "output_type": "stream",
     "text": [
      "The comparision values are : \n",
      "r1: False\n",
      "r2: True\n",
      "r3: True\n",
      "r4: False\n",
      "r5: True\n",
      "r6: False\n",
      "\n"
     ]
    }
   ],
   "source": [
    "# Comparision operator\n",
    "a=25\n",
    "b=15\n",
    "r1=(a==b)\n",
    "r2=(a!=b)\n",
    "r3=(a>b)\n",
    "r4=(a<b)\n",
    "r5=(a>=b)\n",
    "r6=(a<=b)\n",
    "print('The comparision values are : ')\n",
    "print(\"r1:\",r1)\n",
    "print('r2:',r2)\n",
    "print('r3:',r3)\n",
    "print('r4:',r4)\n",
    "print('r5:',r5)\n",
    "print('r6:',r6)\n",
    "print()\n"
   ]
  },
  {
   "cell_type": "code",
   "execution_count": 12,
   "metadata": {},
   "outputs": [
    {
     "name": "stdout",
     "output_type": "stream",
     "text": [
      "Bitwise AND = 4\n",
      "Bitwise OR = 6\n",
      "Bitwise XOR = 2\n",
      "Negate A = -7\n"
     ]
    }
   ],
   "source": [
    "#Bit wise Operators\n",
    "a=6\n",
    "b=4\n",
    "r1=a&b\n",
    "print('Bitwise AND =', r1)\n",
    "r1=a|b\n",
    "print('Bitwise OR =', r1)\n",
    "r1=a^b\n",
    "print('Bitwise XOR =', r1)\n",
    "r1=~a\n",
    "print('Negate A =', r1)\n"
   ]
  },
  {
   "cell_type": "code",
   "execution_count": 14,
   "metadata": {},
   "outputs": [
    {
     "name": "stdout",
     "output_type": "stream",
     "text": [
      "True\n",
      "True\n",
      "False\n",
      "True\n",
      "False\n"
     ]
    }
   ],
   "source": [
    "x='python Data science'          #Identity operation\n",
    "print('z' is not x)\n",
    "print('D' in x)               #Membership operator\n",
    "v='Republic INDIA'            # This is for indentity operation, Here v is not identical to x, so it is false\n",
    "print(v is x)\n",
    "print('INDIA' in v)\n",
    "print('india' in v)\n"
   ]
  },
  {
   "cell_type": "code",
   "execution_count": 19,
   "metadata": {},
   "outputs": [
    {
     "name": "stdout",
     "output_type": "stream",
     "text": [
      "Good Morning\n"
     ]
    }
   ],
   "source": [
    "#IF statements\n",
    "a=50\n",
    "b=4\n",
    "if(a<b):\n",
    "    print(\"Hello world\")\n",
    "print(\"Good Morning\")\n"
   ]
  },
  {
   "cell_type": "code",
   "execution_count": 20,
   "metadata": {},
   "outputs": [
    {
     "name": "stdout",
     "output_type": "stream",
     "text": [
      "valid for Voting..\n"
     ]
    }
   ],
   "source": [
    "#IF - ELSE statement\n",
    "age=35\n",
    "if(age>=18):\n",
    "    print('valid for Voting..')\n",
    "else:\n",
    "    print('Minor still..')"
   ]
  },
  {
   "cell_type": "code",
   "execution_count": 22,
   "metadata": {},
   "outputs": [
    {
     "name": "stdout",
     "output_type": "stream",
     "text": [
      "Grade B\n",
      "None\n"
     ]
    }
   ],
   "source": [
    "#If-elif statements\n",
    "def score(marks):\n",
    "    if(marks>=90):\n",
    "        print(\"Grade A+\")\n",
    "    elif(marks>=75):\n",
    "        print(\"Grade A\")\n",
    "    elif(marks>=55):\n",
    "        print('Grade B')\n",
    "    elif(marks>=35):\n",
    "        print('Grade C')\n",
    "    else:\n",
    "        print(\"Failed result...\")\n",
    "print(score(56))"
   ]
  },
  {
   "cell_type": "code",
   "execution_count": 24,
   "metadata": {},
   "outputs": [
    {
     "name": "stdout",
     "output_type": "stream",
     "text": [
      "1\n",
      "3\n",
      "6\n",
      "10\n",
      "19\n",
      "26\n",
      "32\n",
      "37\n",
      "Total of the Numbers in the list N is =  37\n"
     ]
    }
   ],
   "source": [
    "#For loop\n",
    "#simple for loop\n",
    "N= [1,2,3,4,9,7,6,5]\n",
    "sum=0\n",
    "for i in N:\n",
    "    sum=sum+i\n",
    "    print(sum)\n",
    "print('Total of the Numbers in the list N is = ', sum)"
   ]
  },
  {
   "cell_type": "code",
   "execution_count": 26,
   "metadata": {},
   "outputs": [
    {
     "name": "stdout",
     "output_type": "stream",
     "text": [
      "Inside loop printing\n",
      "Inside loop printing\n",
      "Inside loop printing\n",
      "Inside loop printing\n",
      "Control Inside if\n",
      "Control is in else clause\n"
     ]
    }
   ],
   "source": [
    "#WHILE loop\n",
    "counter=1\n",
    "while counter<5:\n",
    "    print('Inside loop printing')\n",
    "    counter+=1\n",
    "    if(counter==5):\n",
    "        print('Control Inside if')\n",
    "else: print('Control is in else clause')\n",
    "\n"
   ]
  },
  {
   "cell_type": "code",
   "execution_count": 27,
   "metadata": {},
   "outputs": [
    {
     "name": "stdout",
     "output_type": "stream",
     "text": [
      "P\n",
      "y\n",
      "t\n",
      "h\n",
      "o\n",
      "n\n",
      " \n",
      "a\n",
      "n\n",
      "d\n",
      " \n",
      "p\n",
      "y\n",
      " \n",
      "INDIA\n",
      "end of the statement\n"
     ]
    }
   ],
   "source": [
    "#for break statement\n",
    "for val in \"Python and py spark\":\n",
    "    if val==\"s\":\n",
    "        break\n",
    "    print(val)\n",
    "print(\"INDIA\")\n",
    "print('end of the statement')"
   ]
  },
  {
   "cell_type": "code",
   "execution_count": 29,
   "metadata": {},
   "outputs": [
    {
     "name": "stdout",
     "output_type": "stream",
     "text": [
      "Current Position:  9\n",
      "Current Position:  8\n",
      "Current Position:  7\n",
      "Current Position:  5\n",
      "Current Position:  4\n",
      "Current Position:  3\n",
      "Current Position:  2\n",
      "Current Position:  1\n",
      "Current Position:  0\n",
      "Good luck\n"
     ]
    }
   ],
   "source": [
    "#Continue statement(key word)\n",
    "var=10\n",
    "while var>0:\n",
    "    var-=1\n",
    "    if var==6:\n",
    "        continue\n",
    "    print('Current Position: ',var)\n",
    "print('Good luck')\n",
    "\n"
   ]
  },
  {
   "cell_type": "code",
   "execution_count": 30,
   "metadata": {},
   "outputs": [
    {
     "name": "stdout",
     "output_type": "stream",
     "text": [
      "Current letter = p\n",
      "Current letter = y\n",
      "Current letter = t\n",
      "Current letter = h\n",
      "Current letter = o\n",
      "Current letter = n\n",
      "Current letter =  \n",
      "Current letter = a\n",
      "Current letter = n\n",
      "Current letter = d\n",
      "Current letter =  \n",
      "Current letter = a\n",
      "Current letter = n\n",
      "Current letter = a\n",
      "Statement inside pass \n",
      "Current letter = c\n",
      "Current letter = o\n",
      "Current letter = n\n",
      "Current letter = d\n",
      "Current letter = a\n",
      "Out of the loop\n"
     ]
    }
   ],
   "source": [
    "#pass statement\n",
    "for letter in 'python and anaconda':\n",
    "    if letter == 'c':\n",
    "        pass\n",
    "        print(\"Statement inside pass \")\n",
    "    print(\"Current letter =\", letter)\n",
    "print(\"Out of the loop\")"
   ]
  },
  {
   "cell_type": "markdown",
   "metadata": {},
   "source": [
    "# Function"
   ]
  },
  {
   "cell_type": "code",
   "execution_count": 31,
   "metadata": {},
   "outputs": [
    {
     "name": "stdout",
     "output_type": "stream",
     "text": [
      "range(0, 10)\n"
     ]
    }
   ],
   "source": [
    "#The Range() Function..\n",
    "a=range(10)\n",
    "print(a)"
   ]
  },
  {
   "cell_type": "code",
   "execution_count": 32,
   "metadata": {},
   "outputs": [
    {
     "data": {
      "text/plain": [
       "[0, 1, 2, 3, 4, 5, 6, 7, 8, 9]"
      ]
     },
     "execution_count": 32,
     "metadata": {},
     "output_type": "execute_result"
    }
   ],
   "source": [
    "list(a)"
   ]
  },
  {
   "cell_type": "code",
   "execution_count": 33,
   "metadata": {},
   "outputs": [],
   "source": [
    "a1=range(5,125,5)"
   ]
  },
  {
   "cell_type": "code",
   "execution_count": 34,
   "metadata": {},
   "outputs": [
    {
     "data": {
      "text/plain": [
       "[5,\n",
       " 10,\n",
       " 15,\n",
       " 20,\n",
       " 25,\n",
       " 30,\n",
       " 35,\n",
       " 40,\n",
       " 45,\n",
       " 50,\n",
       " 55,\n",
       " 60,\n",
       " 65,\n",
       " 70,\n",
       " 75,\n",
       " 80,\n",
       " 85,\n",
       " 90,\n",
       " 95,\n",
       " 100,\n",
       " 105,\n",
       " 110,\n",
       " 115,\n",
       " 120]"
      ]
     },
     "execution_count": 34,
     "metadata": {},
     "output_type": "execute_result"
    }
   ],
   "source": [
    "list(a1)"
   ]
  },
  {
   "cell_type": "code",
   "execution_count": 38,
   "metadata": {},
   "outputs": [],
   "source": [
    "#Built in functions \n",
    "#This is enumerate()\n",
    "x1=['py','data','for_loop','while','range','conda','pip',\n",
    "        'anaconda','pyspark','jupyter']"
   ]
  },
  {
   "cell_type": "code",
   "execution_count": 39,
   "metadata": {},
   "outputs": [],
   "source": [
    "x2=enumerate(x1)"
   ]
  },
  {
   "cell_type": "code",
   "execution_count": 40,
   "metadata": {},
   "outputs": [
    {
     "data": {
      "text/plain": [
       "[(0, 'py'),\n",
       " (1, 'data'),\n",
       " (2, 'for_loop'),\n",
       " (3, 'while'),\n",
       " (4, 'range'),\n",
       " (5, 'conda'),\n",
       " (6, 'pip'),\n",
       " (7, 'anaconda'),\n",
       " (8, 'pyspark'),\n",
       " (9, 'jupyter')]"
      ]
     },
     "execution_count": 40,
     "metadata": {},
     "output_type": "execute_result"
    }
   ],
   "source": [
    "list(x2)"
   ]
  },
  {
   "cell_type": "code",
   "execution_count": 44,
   "metadata": {},
   "outputs": [],
   "source": [
    "#Sorted() function\n",
    "n=[23,0,12,5,1,-56,78,45,6,3,38,100,27,-4,-12,93,37]"
   ]
  },
  {
   "cell_type": "code",
   "execution_count": 45,
   "metadata": {},
   "outputs": [
    {
     "data": {
      "text/plain": [
       "[-56, -12, -4, 0, 1, 3, 5, 6, 12, 23, 27, 37, 38, 45, 78, 93, 100]"
      ]
     },
     "execution_count": 45,
     "metadata": {},
     "output_type": "execute_result"
    }
   ],
   "source": [
    "sorted(n)"
   ]
  },
  {
   "cell_type": "code",
   "execution_count": 46,
   "metadata": {},
   "outputs": [],
   "source": [
    "s='This is a sorted() example for string..'"
   ]
  },
  {
   "cell_type": "code",
   "execution_count": 51,
   "metadata": {},
   "outputs": [
    {
     "data": {
      "text/plain": [
       "[' ',\n",
       " ' ',\n",
       " ' ',\n",
       " ' ',\n",
       " ' ',\n",
       " ' ',\n",
       " '(',\n",
       " ')',\n",
       " '.',\n",
       " '.',\n",
       " 'T',\n",
       " 'a',\n",
       " 'a',\n",
       " 'd',\n",
       " 'e',\n",
       " 'e',\n",
       " 'e',\n",
       " 'f',\n",
       " 'g',\n",
       " 'h',\n",
       " 'i',\n",
       " 'i',\n",
       " 'i',\n",
       " 'l',\n",
       " 'm',\n",
       " 'n',\n",
       " 'o',\n",
       " 'o',\n",
       " 'p',\n",
       " 'r',\n",
       " 'r',\n",
       " 'r',\n",
       " 's',\n",
       " 's',\n",
       " 's',\n",
       " 's',\n",
       " 't',\n",
       " 't',\n",
       " 'x']"
      ]
     },
     "execution_count": 51,
     "metadata": {},
     "output_type": "execute_result"
    }
   ],
   "source": [
    "sorted(s)          #SOrting begins from whitespace first, \n",
    "                    #then pancuations and then letters"
   ]
  },
  {
   "cell_type": "code",
   "execution_count": 52,
   "metadata": {},
   "outputs": [],
   "source": [
    "d=['py','data','jupyter','anaconda','conda','pyplot','hist','kde','spyder','Qt',\n",
    "  'ANACONDA','JupyterLab','Google','YOUTUBE','netflix','primeVideos']"
   ]
  },
  {
   "cell_type": "code",
   "execution_count": 53,
   "metadata": {},
   "outputs": [
    {
     "data": {
      "text/plain": [
       "['ANACONDA',\n",
       " 'Google',\n",
       " 'JupyterLab',\n",
       " 'Qt',\n",
       " 'YOUTUBE',\n",
       " 'anaconda',\n",
       " 'conda',\n",
       " 'data',\n",
       " 'hist',\n",
       " 'jupyter',\n",
       " 'kde',\n",
       " 'netflix',\n",
       " 'primeVideos',\n",
       " 'py',\n",
       " 'pyplot',\n",
       " 'spyder']"
      ]
     },
     "execution_count": 53,
     "metadata": {},
     "output_type": "execute_result"
    }
   ],
   "source": [
    "sorted(d)        #Sorts words with Capital letters first and \n",
    "                  #then small letters' words"
   ]
  },
  {
   "cell_type": "code",
   "execution_count": 69,
   "metadata": {},
   "outputs": [
    {
     "name": "stdout",
     "output_type": "stream",
     "text": [
      "['sofa', 'eat', 'fog', 'saran']\n"
     ]
    }
   ],
   "source": [
    "#Reversed function\n",
    "r1=reversed(range(10))\n",
    "r2=[\"saran\",\"fog\",\"eat\",\"sofa\"]\n",
    "r3=reversed(r2)\n",
    "print (list(r3))"
   ]
  },
  {
   "cell_type": "code",
   "execution_count": 70,
   "metadata": {},
   "outputs": [
    {
     "data": {
      "text/plain": [
       "[9, 8, 7, 6, 5, 4, 3, 2, 1, 0]"
      ]
     },
     "execution_count": 70,
     "metadata": {},
     "output_type": "execute_result"
    }
   ],
   "source": [
    "list(r1)"
   ]
  },
  {
   "cell_type": "code",
   "execution_count": 72,
   "metadata": {},
   "outputs": [
    {
     "name": "stdout",
     "output_type": "stream",
     "text": [
      "[14, 13, 12, 11, 10, 9, 8, 7, 6, 5, 4, 3, 2, 1, 0]\n"
     ]
    }
   ],
   "source": [
    "print(list(reversed(range(15))))"
   ]
  },
  {
   "cell_type": "code",
   "execution_count": 73,
   "metadata": {},
   "outputs": [
    {
     "name": "stdout",
     "output_type": "stream",
     "text": [
      "Hello, Anaconda, Good morning!\n"
     ]
    }
   ],
   "source": [
    "# Simple program for function definition\n",
    "\n",
    "def first(name):\n",
    "    print(\"Hello, \" + name + \", Good morning!\")\n",
    "first('Anaconda')\n"
   ]
  },
  {
   "cell_type": "code",
   "execution_count": 75,
   "metadata": {},
   "outputs": [
    {
     "name": "stdout",
     "output_type": "stream",
     "text": [
      "The sum is 11\n"
     ]
    }
   ],
   "source": [
    "# Program to illustrate the use of user-defined functions\n",
    "\n",
    "def add_numbers(x,y):\n",
    "    sum = x + y\n",
    "    return sum\n",
    "\n",
    "num1 = 5\n",
    "num2 = 6\n",
    "\n",
    "print(\"The sum is\", add_numbers(num1, num2))\n"
   ]
  },
  {
   "cell_type": "code",
   "execution_count": 77,
   "metadata": {},
   "outputs": [
    {
     "name": "stdout",
     "output_type": "stream",
     "text": [
      "Enter a number: 8\n",
      "The dividing factors of 8 are:\n",
      "1\n",
      "2\n",
      "4\n",
      "8\n"
     ]
    }
   ],
   "source": [
    "# Python Program to find the factors of a number\n",
    "\n",
    "# define a function\n",
    "# This function takes a number and prints the factors\n",
    "\n",
    "def print_factors(x):\n",
    "    print(\"The dividing factors of\",x,\"are:\")\n",
    "    for i in range(1, x + 1):\n",
    "        if x % i == 0:\n",
    "            print(i)\n",
    "num = int(input(\"Enter a number: \"))\n",
    "print_factors(num)"
   ]
  },
  {
   "cell_type": "code",
   "execution_count": 90,
   "metadata": {},
   "outputs": [
    {
     "name": "stdout",
     "output_type": "stream",
     "text": [
      "15\n"
     ]
    }
   ],
   "source": [
    "#Lambda function\n",
    "x = lambda a : a + 10\n",
    "print(x(5))\n"
   ]
  },
  {
   "cell_type": "code",
   "execution_count": 97,
   "metadata": {},
   "outputs": [
    {
     "name": "stdout",
     "output_type": "stream",
     "text": [
      "r1: 22\n",
      "r2: 125\n"
     ]
    }
   ],
   "source": [
    "def mylambda(n):\n",
    "   return lambda a : a * n\n",
    "\n",
    "r1 = mylambda(2)\n",
    "r2 = mylambda(5)\n",
    "\n",
    "print('r1:',r1(11))\n",
    "print('r2:',r2(25))"
   ]
  },
  {
   "cell_type": "markdown",
   "metadata": {},
   "source": [
    "#Data Type"
   ]
  },
  {
   "cell_type": "code",
   "execution_count": 100,
   "metadata": {},
   "outputs": [
    {
     "name": "stdout",
     "output_type": "stream",
     "text": [
      "Output List using for loop: [2, 4, 4, 6]\n"
     ]
    }
   ],
   "source": [
    "#comprehensions \n",
    "# Constructing output list WITHOUT \n",
    "# Using List comprehensions \n",
    "input_list = [1, 2, 3, 4, 4, 5, 6, 7, 7] \n",
    "  \n",
    "output_list = [] \n",
    "  \n",
    "# Using loop for constructing output list \n",
    "for var in input_list: \n",
    "    if var % 2 == 0: \n",
    "        output_list.append(var) \n",
    "  \n",
    "print(\"Output List using for loop:\", output_list) "
   ]
  },
  {
   "cell_type": "markdown",
   "metadata": {},
   "source": [
    "#Data structures "
   ]
  },
  {
   "cell_type": "code",
   "execution_count": 102,
   "metadata": {},
   "outputs": [
    {
     "name": "stdout",
     "output_type": "stream",
     "text": [
      "<class 'list'>\n",
      "['tiger', 'lion', 'dog', 'elephant', 'cat']\n",
      "['tiger', 'lion', 'dog', 'elephant']\n",
      "['horse', 'leopard', 'bear']\n",
      "['tiger', 'lion', 'dog', 'elephant', 'cat', 'horse', 'leopard', 'bear', 'cow']\n",
      "['tiger', 'lion', 'yack', 'elephant', 'cat', 'horse', 'leopard', 'bear', 'cow']\n",
      "\n"
     ]
    }
   ],
   "source": [
    "#data structure in python\n",
    "#List creation\n",
    "animal=['tiger','lion','dog','elephant','cat','horse','leopard','bear']\n",
    "print(type(animal))\n",
    "print(animal[0:5])\n",
    "print(animal[:4])\n",
    "print(animal[5:])\n",
    "animal.append('cow')    #Adds at the end of list\n",
    "print(animal)\n",
    "animal[2]='yack'        #'dog' is replaced by yack\n",
    "print(animal)\n",
    "print()"
   ]
  },
  {
   "cell_type": "code",
   "execution_count": 104,
   "metadata": {},
   "outputs": [
    {
     "name": "stdout",
     "output_type": "stream",
     "text": [
      "('peacock', 'hen', 'kukoo', 'parrort', 'pigeon', 'squirel', 'Hummingbird')\n",
      "<class 'tuple'>\n",
      "('kukoo', 'parrort', 'pigeon', 'squirel')\n",
      "\n"
     ]
    }
   ],
   "source": [
    "#tuple creation \n",
    "birds=('peacock','hen','kukoo','parrort','pigeon','squirel','Hummingbird')\n",
    "print(birds)\n",
    "print(type(birds))\n",
    "print(birds[2:6])\n",
    "#birds.append('owl')   #this will show error since tuple cannot be modified..- AttributeError Traceback (most recent call last) <ipython-input-51-15de4f7748ff> in <module> ----> 1 birds.append('owl') AttributeError: 'tuple' object has no attribute 'append'\n",
    "print()\n"
   ]
  },
  {
   "cell_type": "code",
   "execution_count": 106,
   "metadata": {},
   "outputs": [
    {
     "name": "stdout",
     "output_type": "stream",
     "text": [
      "{'Punjab', 'Assam', 'kerala', 'HimachalPradesh', 'Maharashtra', 'Haryana', 'tamilNadu', 'Gujarat', 'Rajastan', 'karnataka'}\n",
      "\n",
      "{'Punjab', 'Assam', 'Andra', 'West bengal', 'Arunachal', 'madhya pradesh', 'sikkim', 'karnataka'}\n",
      "\n",
      "<class 'set'>\n",
      "<class 'set'>\n",
      "{'Assam', 'Punjab', 'karnataka'}\n",
      "\n",
      "<class 'set'>\n",
      "{'Punjab', 'sikkim', 'Assam', 'kerala', 'HimachalPradesh', 'Maharashtra', 'Haryana', 'Andra', 'tamilNadu', 'West bengal', 'Arunachal', 'madhya pradesh', 'Gujarat', 'Rajastan', 'karnataka'}\n",
      "\n",
      "[('Punjab', 'Kolkata'), ('Assam', 'Bengaluru'), ('kerala', 'Trivendram'), ('HimachalPradesh', 'Jaipur'), ('Maharashtra', 'Chandighar'), ('Haryana', 'chennai'), ('tamilNadu', 'GhandhiNagar'), ('Gujarat', 'Guohati'), ('Rajastan', 'Mumbai')]\n",
      "\n"
     ]
    }
   ],
   "source": [
    "#Set Operation\n",
    "states1=set(['karnataka','tamilNadu','kerala','Assam','Maharashtra','HimachalPradesh','Rajastan','Gujarat','Punjab','Haryana'])\n",
    "states2=set(['madhya pradesh','sikkim','Arunachal','Andra','West bengal','karnataka','Assam','Punjab'])\n",
    "print(states1)\n",
    "print()\n",
    "print(states2)\n",
    "print()\n",
    "print(type(states1))\n",
    "print(type(states2))\n",
    "common=(states1&states2)      #performing AND(intersection) operation, Which gives common values of both sets\n",
    "print(common)\n",
    "print()\n",
    "Union=(states1|states2) #Performing OR(Union) operation which gives combined values...\n",
    "print(type(Union))\n",
    "print(Union)\n",
    "print()\n",
    "capitals=set(['Bengaluru','chennai','Trivendram','Guohati','Mumbai','Kolkata','Jaipur','GhandhiNagar','Chandighar','Chandighar'])\n",
    "a=zip(states1,capitals)\n",
    "print(list(a))\n",
    "print()\n"
   ]
  },
  {
   "cell_type": "code",
   "execution_count": 107,
   "metadata": {},
   "outputs": [
    {
     "name": "stdout",
     "output_type": "stream",
     "text": [
      "<class 'dict'>\n",
      "\n",
      "{'subject': ['basics', 'fileI/O', 'DataClean', 'DataManip', 'DataImport', 'DataAnalysis', 'DAtaVisualize', 'DataReport'], 'Application': ['Netflix', 'Google', 'Webscripting', 'Maths', 'Science', 'Flipcart', 'Amazon', 'ebay']}\n"
     ]
    }
   ],
   "source": [
    "#Dictionary Operation\n",
    "python=dict({'subject':['basics','fileI/O','DataClean','DataManip','DataImport','DataAnalysis','DAtaVisualize','DataReport'],\n",
    "           'Application':['Netflix','Google','Webscripting','Maths','Science','Flipcart','Amazon','ebay']}\n",
    "           )\n",
    "print(type(python))\n",
    "print()\n",
    "print(python)\n"
   ]
  },
  {
   "cell_type": "markdown",
   "metadata": {},
   "source": [
    "# Mathematical computing basics"
   ]
  },
  {
   "cell_type": "code",
   "execution_count": 108,
   "metadata": {},
   "outputs": [
    {
     "name": "stdout",
     "output_type": "stream",
     "text": [
      "The ceil of 2.3 is : 3\n",
      "The floor of 2.3 is : 2\n"
     ]
    }
   ],
   "source": [
    "# ceil() and floor() \n",
    "  \n",
    "# importing \"math\" for mathematical operations \n",
    "import math \n",
    "  \n",
    "a = 2.3\n",
    "  \n",
    "# returning the ceil of 2.3 \n",
    "print (\"The ceil of 2.3 is : \", end=\"\") \n",
    "print (math.ceil(a)) \n",
    "  \n",
    "# returning the floor of 2.3 \n",
    "print (\"The floor of 2.3 is : \", end=\"\") \n",
    "print (math.floor(a)) "
   ]
  },
  {
   "cell_type": "code",
   "execution_count": 109,
   "metadata": {},
   "outputs": [
    {
     "name": "stdout",
     "output_type": "stream",
     "text": [
      "The absolute value of -10 is : 10.0\n",
      "The factorial of 5 is : 120\n"
     ]
    }
   ],
   "source": [
    "# fabs() and factorial() \n",
    "  \n",
    "# importing \"math\" for mathematical operations \n",
    "import math \n",
    "  \n",
    "a = -10\n",
    "  \n",
    "b= 5\n",
    "  \n",
    "# returning the absolute value. \n",
    "print (\"The absolute value of -10 is : \", end=\"\") \n",
    "print (math.fabs(a)) \n",
    "  \n",
    "# returning the factorial of 5 \n",
    "print (\"The factorial of 5 is : \", end=\"\") \n",
    "print (math.factorial(b)) "
   ]
  },
  {
   "cell_type": "code",
   "execution_count": null,
   "metadata": {},
   "outputs": [],
   "source": [
    "# copysign() and gcd() \n",
    "  \n",
    "# importing \"math\" for mathematical operations \n",
    "import math \n",
    "  \n",
    "a = -10\n",
    "b = 5.5\n",
    "c = 15\n",
    "d = 5\n",
    "  \n",
    "# returning the copysigned value. \n",
    "print (\"The copysigned value of -10 and 5.5 is : \", end=\"\") \n",
    "print (math.copysign(5.5, -10)) \n",
    "  \n",
    "# returning the gcd of 15 and 5 \n",
    "print (\"The gcd of 5 and 15 is : \", end=\"\") \n",
    "print (math.gcd(5,15)) "
   ]
  }
 ],
 "metadata": {
  "kernelspec": {
   "display_name": "Python 3",
   "language": "python",
   "name": "python3"
  },
  "language_info": {
   "codemirror_mode": {
    "name": "ipython",
    "version": 3
   },
   "file_extension": ".py",
   "mimetype": "text/x-python",
   "name": "python",
   "nbconvert_exporter": "python",
   "pygments_lexer": "ipython3",
   "version": "3.7.4"
  }
 },
 "nbformat": 4,
 "nbformat_minor": 2
}
