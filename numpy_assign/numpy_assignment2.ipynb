{
 "cells": [
  {
   "cell_type": "markdown",
   "metadata": {},
   "source": [
    "# 1 Exercise : Numpy practice"
   ]
  },
  {
   "cell_type": "markdown",
   "metadata": {},
   "source": [
    "## 1. Choose a value and set the variable x to that value. "
   ]
  },
  {
   "cell_type": "markdown",
   "metadata": {},
   "source": [
    "## 2. What is command to compute the square of x? Its cube? "
   ]
  },
  {
   "cell_type": "code",
   "execution_count": 1,
   "metadata": {},
   "outputs": [],
   "source": [
    "import numpy as np"
   ]
  },
  {
   "cell_type": "code",
   "execution_count": 2,
   "metadata": {},
   "outputs": [],
   "source": [
    " import scipy.linalg as la"
   ]
  },
  {
   "cell_type": "code",
   "execution_count": 3,
   "metadata": {},
   "outputs": [],
   "source": [
    "import matplotlib.pyplot as plt "
   ]
  },
  {
   "cell_type": "code",
   "execution_count": 6,
   "metadata": {},
   "outputs": [
    {
     "data": {
      "text/plain": [
       "6561"
      ]
     },
     "execution_count": 6,
     "metadata": {},
     "output_type": "execute_result"
    }
   ],
   "source": [
    "x=81\n",
    "np.square(x)"
   ]
  },
  {
   "cell_type": "code",
   "execution_count": 10,
   "metadata": {},
   "outputs": [
    {
     "data": {
      "text/plain": [
       "531441"
      ]
     },
     "execution_count": 10,
     "metadata": {},
     "output_type": "execute_result"
    }
   ],
   "source": [
    "np.power(x,3)"
   ]
  },
  {
   "cell_type": "markdown",
   "metadata": {},
   "source": [
    "## 3. Choose an angle θ and set the variable theta to its value (a number). \n"
   ]
  },
  {
   "cell_type": "markdown",
   "metadata": {},
   "source": [
    "## 4. What is sinθ? cosθ? Angles can be measured in degrees or radians. Which of these are being used ?"
   ]
  },
  {
   "cell_type": "code",
   "execution_count": 37,
   "metadata": {},
   "outputs": [
    {
     "data": {
      "text/plain": [
       "0.8509035245341184"
      ]
     },
     "execution_count": 37,
     "metadata": {},
     "output_type": "execute_result"
    }
   ],
   "source": [
    "theta=45\n",
    "np.sin(theta)"
   ]
  },
  {
   "cell_type": "code",
   "execution_count": 38,
   "metadata": {},
   "outputs": [
    {
     "data": {
      "text/plain": [
       "0.5253219888177297"
      ]
     },
     "execution_count": 38,
     "metadata": {},
     "output_type": "execute_result"
    }
   ],
   "source": [
    "np.cos(theta)"
   ]
  },
  {
   "cell_type": "markdown",
   "metadata": {},
   "source": [
    "## 5. Use the np.linspace function to create a row vector called meshPoints containing exactly 500 values with values evenly spaced between -1 and 1. "
   ]
  },
  {
   "cell_type": "code",
   "execution_count": 41,
   "metadata": {},
   "outputs": [
    {
     "data": {
      "text/plain": [
       "array([-1.        , -0.99599198, -0.99198397, -0.98797595, -0.98396794,\n",
       "       -0.97995992, -0.9759519 , -0.97194389, -0.96793587, -0.96392786,\n",
       "       -0.95991984, -0.95591182, -0.95190381, -0.94789579, -0.94388778,\n",
       "       -0.93987976, -0.93587174, -0.93186373, -0.92785571, -0.9238477 ,\n",
       "       -0.91983968, -0.91583166, -0.91182365, -0.90781563, -0.90380762,\n",
       "       -0.8997996 , -0.89579158, -0.89178357, -0.88777555, -0.88376754,\n",
       "       -0.87975952, -0.8757515 , -0.87174349, -0.86773547, -0.86372745,\n",
       "       -0.85971944, -0.85571142, -0.85170341, -0.84769539, -0.84368737,\n",
       "       -0.83967936, -0.83567134, -0.83166333, -0.82765531, -0.82364729,\n",
       "       -0.81963928, -0.81563126, -0.81162325, -0.80761523, -0.80360721,\n",
       "       -0.7995992 , -0.79559118, -0.79158317, -0.78757515, -0.78356713,\n",
       "       -0.77955912, -0.7755511 , -0.77154309, -0.76753507, -0.76352705,\n",
       "       -0.75951904, -0.75551102, -0.75150301, -0.74749499, -0.74348697,\n",
       "       -0.73947896, -0.73547094, -0.73146293, -0.72745491, -0.72344689,\n",
       "       -0.71943888, -0.71543086, -0.71142285, -0.70741483, -0.70340681,\n",
       "       -0.6993988 , -0.69539078, -0.69138277, -0.68737475, -0.68336673,\n",
       "       -0.67935872, -0.6753507 , -0.67134269, -0.66733467, -0.66332665,\n",
       "       -0.65931864, -0.65531062, -0.65130261, -0.64729459, -0.64328657,\n",
       "       -0.63927856, -0.63527054, -0.63126253, -0.62725451, -0.62324649,\n",
       "       -0.61923848, -0.61523046, -0.61122244, -0.60721443, -0.60320641,\n",
       "       -0.5991984 , -0.59519038, -0.59118236, -0.58717435, -0.58316633,\n",
       "       -0.57915832, -0.5751503 , -0.57114228, -0.56713427, -0.56312625,\n",
       "       -0.55911824, -0.55511022, -0.5511022 , -0.54709419, -0.54308617,\n",
       "       -0.53907816, -0.53507014, -0.53106212, -0.52705411, -0.52304609,\n",
       "       -0.51903808, -0.51503006, -0.51102204, -0.50701403, -0.50300601,\n",
       "       -0.498998  , -0.49498998, -0.49098196, -0.48697395, -0.48296593,\n",
       "       -0.47895792, -0.4749499 , -0.47094188, -0.46693387, -0.46292585,\n",
       "       -0.45891784, -0.45490982, -0.4509018 , -0.44689379, -0.44288577,\n",
       "       -0.43887776, -0.43486974, -0.43086172, -0.42685371, -0.42284569,\n",
       "       -0.41883768, -0.41482966, -0.41082164, -0.40681363, -0.40280561,\n",
       "       -0.3987976 , -0.39478958, -0.39078156, -0.38677355, -0.38276553,\n",
       "       -0.37875752, -0.3747495 , -0.37074148, -0.36673347, -0.36272545,\n",
       "       -0.35871743, -0.35470942, -0.3507014 , -0.34669339, -0.34268537,\n",
       "       -0.33867735, -0.33466934, -0.33066132, -0.32665331, -0.32264529,\n",
       "       -0.31863727, -0.31462926, -0.31062124, -0.30661323, -0.30260521,\n",
       "       -0.29859719, -0.29458918, -0.29058116, -0.28657315, -0.28256513,\n",
       "       -0.27855711, -0.2745491 , -0.27054108, -0.26653307, -0.26252505,\n",
       "       -0.25851703, -0.25450902, -0.250501  , -0.24649299, -0.24248497,\n",
       "       -0.23847695, -0.23446894, -0.23046092, -0.22645291, -0.22244489,\n",
       "       -0.21843687, -0.21442886, -0.21042084, -0.20641283, -0.20240481,\n",
       "       -0.19839679, -0.19438878, -0.19038076, -0.18637275, -0.18236473,\n",
       "       -0.17835671, -0.1743487 , -0.17034068, -0.16633267, -0.16232465,\n",
       "       -0.15831663, -0.15430862, -0.1503006 , -0.14629259, -0.14228457,\n",
       "       -0.13827655, -0.13426854, -0.13026052, -0.12625251, -0.12224449,\n",
       "       -0.11823647, -0.11422846, -0.11022044, -0.10621242, -0.10220441,\n",
       "       -0.09819639, -0.09418838, -0.09018036, -0.08617234, -0.08216433,\n",
       "       -0.07815631, -0.0741483 , -0.07014028, -0.06613226, -0.06212425,\n",
       "       -0.05811623, -0.05410822, -0.0501002 , -0.04609218, -0.04208417,\n",
       "       -0.03807615, -0.03406814, -0.03006012, -0.0260521 , -0.02204409,\n",
       "       -0.01803607, -0.01402806, -0.01002004, -0.00601202, -0.00200401,\n",
       "        0.00200401,  0.00601202,  0.01002004,  0.01402806,  0.01803607,\n",
       "        0.02204409,  0.0260521 ,  0.03006012,  0.03406814,  0.03807615,\n",
       "        0.04208417,  0.04609218,  0.0501002 ,  0.05410822,  0.05811623,\n",
       "        0.06212425,  0.06613226,  0.07014028,  0.0741483 ,  0.07815631,\n",
       "        0.08216433,  0.08617234,  0.09018036,  0.09418838,  0.09819639,\n",
       "        0.10220441,  0.10621242,  0.11022044,  0.11422846,  0.11823647,\n",
       "        0.12224449,  0.12625251,  0.13026052,  0.13426854,  0.13827655,\n",
       "        0.14228457,  0.14629259,  0.1503006 ,  0.15430862,  0.15831663,\n",
       "        0.16232465,  0.16633267,  0.17034068,  0.1743487 ,  0.17835671,\n",
       "        0.18236473,  0.18637275,  0.19038076,  0.19438878,  0.19839679,\n",
       "        0.20240481,  0.20641283,  0.21042084,  0.21442886,  0.21843687,\n",
       "        0.22244489,  0.22645291,  0.23046092,  0.23446894,  0.23847695,\n",
       "        0.24248497,  0.24649299,  0.250501  ,  0.25450902,  0.25851703,\n",
       "        0.26252505,  0.26653307,  0.27054108,  0.2745491 ,  0.27855711,\n",
       "        0.28256513,  0.28657315,  0.29058116,  0.29458918,  0.29859719,\n",
       "        0.30260521,  0.30661323,  0.31062124,  0.31462926,  0.31863727,\n",
       "        0.32264529,  0.32665331,  0.33066132,  0.33466934,  0.33867735,\n",
       "        0.34268537,  0.34669339,  0.3507014 ,  0.35470942,  0.35871743,\n",
       "        0.36272545,  0.36673347,  0.37074148,  0.3747495 ,  0.37875752,\n",
       "        0.38276553,  0.38677355,  0.39078156,  0.39478958,  0.3987976 ,\n",
       "        0.40280561,  0.40681363,  0.41082164,  0.41482966,  0.41883768,\n",
       "        0.42284569,  0.42685371,  0.43086172,  0.43486974,  0.43887776,\n",
       "        0.44288577,  0.44689379,  0.4509018 ,  0.45490982,  0.45891784,\n",
       "        0.46292585,  0.46693387,  0.47094188,  0.4749499 ,  0.47895792,\n",
       "        0.48296593,  0.48697395,  0.49098196,  0.49498998,  0.498998  ,\n",
       "        0.50300601,  0.50701403,  0.51102204,  0.51503006,  0.51903808,\n",
       "        0.52304609,  0.52705411,  0.53106212,  0.53507014,  0.53907816,\n",
       "        0.54308617,  0.54709419,  0.5511022 ,  0.55511022,  0.55911824,\n",
       "        0.56312625,  0.56713427,  0.57114228,  0.5751503 ,  0.57915832,\n",
       "        0.58316633,  0.58717435,  0.59118236,  0.59519038,  0.5991984 ,\n",
       "        0.60320641,  0.60721443,  0.61122244,  0.61523046,  0.61923848,\n",
       "        0.62324649,  0.62725451,  0.63126253,  0.63527054,  0.63927856,\n",
       "        0.64328657,  0.64729459,  0.65130261,  0.65531062,  0.65931864,\n",
       "        0.66332665,  0.66733467,  0.67134269,  0.6753507 ,  0.67935872,\n",
       "        0.68336673,  0.68737475,  0.69138277,  0.69539078,  0.6993988 ,\n",
       "        0.70340681,  0.70741483,  0.71142285,  0.71543086,  0.71943888,\n",
       "        0.72344689,  0.72745491,  0.73146293,  0.73547094,  0.73947896,\n",
       "        0.74348697,  0.74749499,  0.75150301,  0.75551102,  0.75951904,\n",
       "        0.76352705,  0.76753507,  0.77154309,  0.7755511 ,  0.77955912,\n",
       "        0.78356713,  0.78757515,  0.79158317,  0.79559118,  0.7995992 ,\n",
       "        0.80360721,  0.80761523,  0.81162325,  0.81563126,  0.81963928,\n",
       "        0.82364729,  0.82765531,  0.83166333,  0.83567134,  0.83967936,\n",
       "        0.84368737,  0.84769539,  0.85170341,  0.85571142,  0.85971944,\n",
       "        0.86372745,  0.86773547,  0.87174349,  0.8757515 ,  0.87975952,\n",
       "        0.88376754,  0.88777555,  0.89178357,  0.89579158,  0.8997996 ,\n",
       "        0.90380762,  0.90781563,  0.91182365,  0.91583166,  0.91983968,\n",
       "        0.9238477 ,  0.92785571,  0.93186373,  0.93587174,  0.93987976,\n",
       "        0.94388778,  0.94789579,  0.95190381,  0.95591182,  0.95991984,\n",
       "        0.96392786,  0.96793587,  0.97194389,  0.9759519 ,  0.97995992,\n",
       "        0.98396794,  0.98797595,  0.99198397,  0.99599198,  1.        ])"
      ]
     },
     "execution_count": 41,
     "metadata": {},
     "output_type": "execute_result"
    }
   ],
   "source": [
    "mesh=np.linspace(-1,1,num=500)\n",
    "mesh"
   ]
  },
  {
   "cell_type": "markdown",
   "metadata": {},
   "source": [
    "## 6. What expression will yield the value of the 53th element of meshPoints? What is this value? "
   ]
  },
  {
   "cell_type": "code",
   "execution_count": 42,
   "metadata": {},
   "outputs": [
    {
     "name": "stdout",
     "output_type": "stream",
     "text": [
      "[-0.78757515]\n"
     ]
    }
   ],
   "source": [
    "mesh=np.array(np.linspace(-1,1,num=500))\n",
    "x=np.array([53])\n",
    "print(mesh[x])"
   ]
  },
  {
   "cell_type": "markdown",
   "metadata": {},
   "source": [
    "# Vector and matrix operations: Exercise "
   ]
  },
  {
   "cell_type": "markdown",
   "metadata": {},
   "source": [
    "## 1. You can multiply vectors by constants. Compute vec2 = (np.pi/4) * vec1 "
   ]
  },
  {
   "cell_type": "code",
   "execution_count": 42,
   "metadata": {},
   "outputs": [
    {
     "data": {
      "text/plain": [
       "array([-0.78539816,  3.14159265, -7.06858347])"
      ]
     },
     "execution_count": 42,
     "metadata": {},
     "output_type": "execute_result"
    }
   ],
   "source": [
    "vec1 = np.array([-1,4,-9]) \n",
    "mat1 = np.array([[1,3,5],[7,-9,2],[4, 6, 8]])\n",
    "vec2 =(np.pi/4) * vec1 \n",
    "vec2"
   ]
  },
  {
   "cell_type": "markdown",
   "metadata": {},
   "source": [
    "## 2.The cosine function can be applied to a vector to yield a vector of cosines. "
   ]
  },
  {
   "cell_type": "code",
   "execution_count": 17,
   "metadata": {},
   "outputs": [
    {
     "data": {
      "text/plain": [
       "array([ 0.70710678, -1.        ,  0.70710678])"
      ]
     },
     "execution_count": 17,
     "metadata": {},
     "output_type": "execute_result"
    }
   ],
   "source": [
    "vec2 = np.cos(vec2)\n",
    "vec2"
   ]
  },
  {
   "cell_type": "markdown",
   "metadata": {},
   "source": [
    "## 3. You can add vectors and multiply by scalars. Compute "
   ]
  },
  {
   "cell_type": "code",
   "execution_count": 18,
   "metadata": {},
   "outputs": [
    {
     "data": {
      "text/plain": [
       "array([ 0.41421356,  2.        , -7.58578644])"
      ]
     },
     "execution_count": 18,
     "metadata": {},
     "output_type": "execute_result"
    }
   ],
   "source": [
    "vec3 = vec1 + 2 * vec2 \n",
    "vec3"
   ]
  },
  {
   "cell_type": "markdown",
   "metadata": {},
   "source": [
    "## 4. The Euclidean norm of a matrix or a vector is available using la.norm. "
   ]
  },
  {
   "cell_type": "code",
   "execution_count": 20,
   "metadata": {},
   "outputs": [
    {
     "data": {
      "text/plain": [
       "7.855935892848037"
      ]
     },
     "execution_count": 20,
     "metadata": {},
     "output_type": "execute_result"
    }
   ],
   "source": [
    "la.norm(vec3)"
   ]
  },
  {
   "cell_type": "markdown",
   "metadata": {},
   "source": [
    "## 5. You can do row-column matrix multiplication. Compute the product of mat1 and vec3 and set vec4 equal to the result. "
   ]
  },
  {
   "cell_type": "code",
   "execution_count": 22,
   "metadata": {},
   "outputs": [
    {
     "data": {
      "text/plain": [
       "array([[  0.41421356,   6.        , -37.92893219],\n",
       "       [  2.89949494, -18.        , -15.17157288],\n",
       "       [  1.65685425,  12.        , -60.6862915 ]])"
      ]
     },
     "execution_count": 22,
     "metadata": {},
     "output_type": "execute_result"
    }
   ],
   "source": [
    "vec4=mat1*vec3\n",
    "vec4"
   ]
  },
  {
   "cell_type": "markdown",
   "metadata": {},
   "source": [
    "## 6. Compute the transpose of mat1."
   ]
  },
  {
   "cell_type": "code",
   "execution_count": 23,
   "metadata": {},
   "outputs": [
    {
     "data": {
      "text/plain": [
       "array([[ 1,  7,  4],\n",
       "       [ 3, -9,  6],\n",
       "       [ 5,  2,  8]])"
      ]
     },
     "execution_count": 23,
     "metadata": {},
     "output_type": "execute_result"
    }
   ],
   "source": [
    "np.transpose(mat1)"
   ]
  },
  {
   "cell_type": "markdown",
   "metadata": {},
   "source": [
    "## 7. Compute the determinant of mat1. "
   ]
  },
  {
   "cell_type": "code",
   "execution_count": 27,
   "metadata": {},
   "outputs": [
    {
     "data": {
      "text/plain": [
       "161.99999999999997"
      ]
     },
     "execution_count": 27,
     "metadata": {},
     "output_type": "execute_result"
    }
   ],
   "source": [
    "la.det(mat1)"
   ]
  },
  {
   "cell_type": "markdown",
   "metadata": {},
   "source": [
    "## 8. Compute the trace of mat1. "
   ]
  },
  {
   "cell_type": "code",
   "execution_count": 26,
   "metadata": {},
   "outputs": [
    {
     "data": {
      "text/plain": [
       "0"
      ]
     },
     "execution_count": 26,
     "metadata": {},
     "output_type": "execute_result"
    }
   ],
   "source": [
    "np.trace(mat1)"
   ]
  },
  {
   "cell_type": "markdown",
   "metadata": {},
   "source": [
    "## 9. Find the smallest element in vec1."
   ]
  },
  {
   "cell_type": "code",
   "execution_count": 29,
   "metadata": {},
   "outputs": [
    {
     "data": {
      "text/plain": [
       "-9"
      ]
     },
     "execution_count": 29,
     "metadata": {},
     "output_type": "execute_result"
    }
   ],
   "source": [
    "np.min(vec1)"
   ]
  },
  {
   "cell_type": "markdown",
   "metadata": {},
   "source": [
    "## 11. What expression would you use to find the smallest element of the matrix mat1"
   ]
  },
  {
   "cell_type": "code",
   "execution_count": 30,
   "metadata": {},
   "outputs": [
    {
     "data": {
      "text/plain": [
       "-9"
      ]
     },
     "execution_count": 30,
     "metadata": {},
     "output_type": "execute_result"
    }
   ],
   "source": [
    "np.min(mat1)"
   ]
  },
  {
   "cell_type": "markdown",
   "metadata": {},
   "source": [
    "## 12. The function np.random.rand can be used to construct and fill vectors and matrices with random numbers. Use the help facility in Python to learn how to construct a 10 × 10 matrix named M filled with random numbers. "
   ]
  },
  {
   "cell_type": "code",
   "execution_count": 43,
   "metadata": {},
   "outputs": [
    {
     "data": {
      "text/plain": [
       "matrix([[0.69879017, 0.79243757, 0.01770034, 0.85093359, 0.53527686,\n",
       "         0.1518969 , 0.4683515 , 0.31669167, 0.90941081, 0.44741347],\n",
       "        [0.65645573, 0.86260206, 0.58451674, 0.83189884, 0.87032463,\n",
       "         0.34241321, 0.04312371, 0.58616078, 0.09091688, 0.45466072],\n",
       "        [0.53655892, 0.75475851, 0.84022364, 0.77391475, 0.08595951,\n",
       "         0.03582291, 0.5948336 , 0.07737675, 0.73951699, 0.13699431],\n",
       "        [0.99585124, 0.92133126, 0.56868563, 0.48016971, 0.43616688,\n",
       "         0.7225001 , 0.35270188, 0.74045921, 0.85485883, 0.8041814 ],\n",
       "        [0.18996122, 0.6646684 , 0.79705787, 0.8218892 , 0.77886981,\n",
       "         0.94526535, 0.88507237, 0.51971601, 0.36305768, 0.51119879],\n",
       "        [0.25341336, 0.53602892, 0.94891129, 0.08511544, 0.74366492,\n",
       "         0.47911779, 0.48235278, 0.03321657, 0.37040642, 0.84921701],\n",
       "        [0.09270317, 0.98063636, 0.6059452 , 0.83191632, 0.2862277 ,\n",
       "         0.91587818, 0.31710637, 0.67624194, 0.89715038, 0.92218098],\n",
       "        [0.45980846, 0.73963694, 0.34729933, 0.03956827, 0.7384603 ,\n",
       "         0.13400232, 0.92303482, 0.11333287, 0.83973865, 0.51979004],\n",
       "        [0.19514772, 0.71867804, 0.22124116, 0.88170295, 0.22145767,\n",
       "         0.86812412, 0.20369445, 0.38557799, 0.41557754, 0.94789088],\n",
       "        [0.82944533, 0.75988785, 0.45199798, 0.89093494, 0.41831922,\n",
       "         0.8711366 , 0.0152075 , 0.65117019, 0.59140431, 0.56881121]])"
      ]
     },
     "execution_count": 43,
     "metadata": {},
     "output_type": "execute_result"
    }
   ],
   "source": [
    "m=np.random.rand(10,10)\n",
    "np.mat(m)"
   ]
  },
  {
   "cell_type": "code",
   "execution_count": null,
   "metadata": {},
   "outputs": [],
   "source": []
  },
  {
   "cell_type": "code",
   "execution_count": null,
   "metadata": {},
   "outputs": [],
   "source": []
  },
  {
   "cell_type": "code",
   "execution_count": null,
   "metadata": {},
   "outputs": [],
   "source": []
  },
  {
   "cell_type": "code",
   "execution_count": null,
   "metadata": {},
   "outputs": [],
   "source": []
  }
 ],
 "metadata": {
  "kernelspec": {
   "display_name": "Python 3",
   "language": "python",
   "name": "python3"
  },
  "language_info": {
   "codemirror_mode": {
    "name": "ipython",
    "version": 3
   },
   "file_extension": ".py",
   "mimetype": "text/x-python",
   "name": "python",
   "nbconvert_exporter": "python",
   "pygments_lexer": "ipython3",
   "version": "3.7.4"
  }
 },
 "nbformat": 4,
 "nbformat_minor": 2
}
